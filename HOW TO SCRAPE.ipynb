{
 "cells": [
  {
   "cell_type": "markdown",
   "metadata": {},
   "source": [
    "# Scraping AWS Questions using SeleniumWire\n",
    "Selenium is a browser automation tool. SeleniumWire allows for inspection into the network requests made from the browser.\n",
    "The site www.lleicloud.com contains lots of AWS Certification questions.\n",
    "In this notebook I scrape these questions from the browser request to their wordpress backend."
   ]
  },
  {
   "cell_type": "code",
   "execution_count": 16,
   "metadata": {
    "scrolled": true
   },
   "outputs": [
    {
     "name": "stdout",
     "output_type": "stream",
     "text": [
      "https://www.lleicloud.com/index.php/aws-certified-solutions-architect-practice-tests-c1-16/\n",
      "finding button\n",
      "clicked\n",
      "getting request\n",
      "aws-certified-solutions-architect-practice-tests-c1-16.json\n",
      "wrote questions\n",
      "https://www.lleicloud.com/index.php/aws-certified-solutions-architect-practice-tests-c2-09/\n",
      "finding button\n",
      "clicked\n",
      "getting request\n",
      "aws-certified-solutions-architect-practice-tests-c2-09.json\n",
      "wrote questions\n",
      "https://www.lleicloud.com/index.php/aws-certified-solutions-architect-practice-tests-c3-09/\n",
      "finding button\n",
      "clicked\n",
      "getting request\n",
      "aws-certified-solutions-architect-practice-tests-c3-09.json\n",
      "wrote questions\n"
     ]
    }
   ],
   "source": [
    "from seleniumwire import webdriver\n",
    "from bs4 import BeautifulSoup\n",
    "import json \n",
    "import time\n",
    "\n",
    "\n",
    "def get_questions(url):\n",
    "    driver.get(url)\n",
    "    time.sleep(3)\n",
    "    print(\"finding button\")\n",
    "    submit_button = driver.find_element_by_id('action-button')\n",
    "    if submit_button:\n",
    "        submit_button.click()\n",
    "    else:\n",
    "        raise\n",
    "    print(\"clicked\")\n",
    "    time.sleep(3)\n",
    "    print(\"getting request\")\n",
    "    \n",
    "    \n",
    "def extract_questions(body):\n",
    "    soup = BeautifulSoup(body)\n",
    "    questions = soup.select('.show-question')\n",
    "    parsed_questions = []\n",
    "    for question in questions:\n",
    "        q = {}\n",
    "        parsed_question = question.select_one('.show-question-content').text.strip()\n",
    "        q[\"question\"] = parsed_question\n",
    "        answers = question.select('.answer')\n",
    "        parsed_answers = list(set([answer.text for answer in answers]))\n",
    "        q[\"options\"] = parsed_answers\n",
    "        correct_answers = question.select('.correct-answer.answer')\n",
    "        parsed_correct_answers = list(set([answer.text for answer in correct_answers]))\n",
    "        q[\"answers\"] = parsed_correct_answers\n",
    "        parsed_questions.append(q)\n",
    "    return parsed_questions\n",
    " \n",
    "\n",
    "with open('quiz_urls.json') as f:\n",
    "    content = json.loads(f.read())\n",
    "    urls = content[\"urls\"]\n",
    "    for url in urls:\n",
    "        driver = webdriver.Chrome('/Users/Shared/chromedriver')\n",
    "        driver.scopes = [\n",
    "            '.*lleicloud.*',\n",
    "        ]\n",
    "        print(url)\n",
    "        try:\n",
    "            get_questions(url)\n",
    "            request = driver.wait_for_request('https://www.lleicloud.com/wp-admin/admin-ajax.php')\n",
    "            questions = extract_questions(request.response.body)\n",
    "            filename = url.split('/')[-2] + '.json'\n",
    "            print(filename)\n",
    "            with open('questions/' + filename, 'w') as qf:\n",
    "                qf.write(json.dumps(questions))\n",
    "                print(\"wrote questions\")\n",
    "                \n",
    "        except Exception as e:\n",
    "            print(e)\n",
    "            print(url)\n",
    "        driver.quit()\n",
    "        \n",
    "  "
   ]
  },
  {
   "cell_type": "code",
   "execution_count": 12,
   "metadata": {},
   "outputs": [
    {
     "ename": "SyntaxError",
     "evalue": "invalid syntax (<ipython-input-12-ac9f94cd3166>, line 1)",
     "output_type": "error",
     "traceback": [
      "\u001b[0;36m  File \u001b[0;32m\"<ipython-input-12-ac9f94cd3166>\"\u001b[0;36m, line \u001b[0;32m1\u001b[0m\n\u001b[0;31m    1: 4, 13\u001b[0m\n\u001b[0m        ^\u001b[0m\n\u001b[0;31mSyntaxError\u001b[0m\u001b[0;31m:\u001b[0m invalid syntax\n"
     ]
    }
   ],
   "source": [
    "1: 4, 13\n",
    "2: 1, 3, 7, 11, \n",
    "3: 2,\n",
    "4: 4, 5, \n",
    "    "
   ]
  },
  {
   "cell_type": "code",
   "execution_count": 4,
   "metadata": {},
   "outputs": [],
   "source": [
    "soup = BeautifulSoup(response)"
   ]
  },
  {
   "cell_type": "code",
   "execution_count": 6,
   "metadata": {},
   "outputs": [
    {
     "data": {
      "text/plain": [
       "[<li class=\"answer correct-answer\"><span class=\"answer\"><!--WATUEMAILanswer correct-answerWATUEMAIL-->A. The distance between the region and your user base</span></li>,\n",
       " <li class=\"answer correct-answer\"><span class=\"answer\"><!--WATUEMAILanswer correct-answerWATUEMAIL-->B. The distance between the region and your on-premises operations</span></li>,\n",
       " <li class=\"answer correct-answer\"><span class=\"answer\"><!--WATUEMAILanswer correct-answerWATUEMAIL-->B. In a specific availability zone</span></li>,\n",
       " <li class=\"answer correct-answer\"><span class=\"answer\"><!--WATUEMAILanswer correct-answerWATUEMAIL-->C. Spread placement groups</span></li>,\n",
       " <li class=\"answer correct-answer\"><span class=\"answer\"><!--WATUEMAILanswer correct-answerWATUEMAIL-->C. Customer gateway</span></li>,\n",
       " <li class=\"answer correct-answer\"><span class=\"answer\"><!--WATUEMAILanswer correct-answerWATUEMAIL-->B. Virtual private gateway</span></li>,\n",
       " <li class=\"answer correct-answer\"><span class=\"answer\"><!--WATUEMAILanswer correct-answerWATUEMAIL-->B. Two</span></li>,\n",
       " <li class=\"answer correct-answer\"><span class=\"answer\"><!--WATUEMAILanswer correct-answerWATUEMAIL-->D. Customer gateway to virtual private gateway to Amazon VPC</span></li>,\n",
       " <li class=\"answer correct-answer\"><span class=\"answer\"><!--WATUEMAILanswer correct-answerWATUEMAIL-->A. Set up a public IP address for the customer gateway.</span></li>,\n",
       " <li class=\"answer correct-answer\"><span class=\"answer\"><!--WATUEMAILanswer correct-answerWATUEMAIL-->C. Set up a public IP address for the virtual private gateway.</span></li>,\n",
       " <li class=\"answer correct-answer\"><span class=\"answer\"><!--WATUEMAILanswer correct-answerWATUEMAIL-->A. Storage gateway</span></li>,\n",
       " <li class=\"answer correct-answer\"><span class=\"answer\"><!--WATUEMAILanswer correct-answerWATUEMAIL-->A. File gateway</span></li>,\n",
       " <li class=\"answer correct-answer\"><span class=\"answer\"><!--WATUEMAILanswer correct-answerWATUEMAIL-->B. Volume gateway</span></li>,\n",
       " <li class=\"answer correct-answer\"><span class=\"answer\"><!--WATUEMAILanswer correct-answerWATUEMAIL-->A. File gateway</span></li>,\n",
       " <li class=\"answer correct-answer\"><span class=\"answer\"><!--WATUEMAILanswer correct-answerWATUEMAIL-->D. Tape gateway</span></li>,\n",
       " <li class=\"answer correct-answer\"><span class=\"answer\"><!--WATUEMAILanswer correct-answerWATUEMAIL-->C. Stored volume gateway</span></li>,\n",
       " <li class=\"answer correct-answer\"><span class=\"answer\"><!--WATUEMAILanswer correct-answerWATUEMAIL-->C. Snowball</span></li>,\n",
       " <li class=\"answer correct-answer\"><span class=\"answer\"><!--WATUEMAILanswer correct-answerWATUEMAIL-->A. You want low-latency access to your entire dataset.</span></li>,\n",
       " <li class=\"answer correct-answer\"><span class=\"answer\"><!--WATUEMAILanswer correct-answerWATUEMAIL-->C. You want to support iSCSI storage volumes.</span></li>,\n",
       " <li class=\"answer correct-answer\"><span class=\"answer\"><!--WATUEMAILanswer correct-answerWATUEMAIL-->A. File gateway</span></li>,\n",
       " <li class=\"answer correct-answer\"><span class=\"answer\"><!--WATUEMAILanswer correct-answerWATUEMAIL-->B. Cached volume gateway</span></li>,\n",
       " <li class=\"answer correct-answer\"><span class=\"answer\"><!--WATUEMAILanswer correct-answerWATUEMAIL-->C. Stored volume gateway</span></li>,\n",
       " <li class=\"answer correct-answer\"><span class=\"answer\"><!--WATUEMAILanswer correct-answerWATUEMAIL-->D. Tape gateway</span></li>,\n",
       " <li class=\"answer correct-answer\"><span class=\"answer\"><!--WATUEMAILanswer correct-answerWATUEMAIL-->D. Glacier</span></li>]"
      ]
     },
     "execution_count": 6,
     "metadata": {},
     "output_type": "execute_result"
    }
   ],
   "source": [
    "soup.select('.correct-answer.answer')"
   ]
  }
 ],
 "metadata": {
  "kernelspec": {
   "display_name": "Python 3",
   "language": "python",
   "name": "python3"
  },
  "language_info": {
   "codemirror_mode": {
    "name": "ipython",
    "version": 3
   },
   "file_extension": ".py",
   "mimetype": "text/x-python",
   "name": "python",
   "nbconvert_exporter": "python",
   "pygments_lexer": "ipython3",
   "version": "3.8.5"
  }
 },
 "nbformat": 4,
 "nbformat_minor": 4
}
